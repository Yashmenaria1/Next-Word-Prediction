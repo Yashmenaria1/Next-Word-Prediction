{
  "cells": [
    {
      "cell_type": "code",
      "execution_count": 1,
      "metadata": {
        "id": "vv3jRMwqAuak"
      },
      "outputs": [],
      "source": [
        "import numpy as np\n",
        "import tensorflow as tf\n",
        "from tensorflow.keras.preprocessing.text import Tokenizer\n",
        "from tensorflow.keras.preprocessing.sequence import pad_sequences\n",
        "from tensorflow.keras.models import Sequential\n",
        "from tensorflow.keras.layers import Embedding, LSTM, Dense"
      ]
    },
    {
      "cell_type": "code",
      "execution_count": 2,
      "metadata": {
        "id": "9lzgJFKNBJ_7"
      },
      "outputs": [],
      "source": [
        "# Read the text file\n",
        "with open('/content/drive/MyDrive/sherlock-holm.es_stories_plain-text_advs.txt', 'r', encoding='utf-8') as file:\n",
        "    text = file.read()"
      ]
    },
    {
      "cell_type": "code",
      "execution_count": 3,
      "metadata": {
        "id": "AVu2YhfeBKvS"
      },
      "outputs": [],
      "source": [
        "tokenizer = Tokenizer()\n",
        "tokenizer.fit_on_texts([text])\n",
        "total_words = len(tokenizer.word_index) + 1"
      ]
    },
    {
      "cell_type": "code",
      "execution_count": 4,
      "metadata": {
        "id": "IxOoJh7LBNQ-"
      },
      "outputs": [],
      "source": [
        "input_sequences = []\n",
        "for line in text.split('\\n'):\n",
        "    token_list = tokenizer.texts_to_sequences([line])[0]\n",
        "    for i in range(1, len(token_list)):\n",
        "        n_gram_sequence = token_list[:i+1]\n",
        "        input_sequences.append(n_gram_sequence)"
      ]
    },
    {
      "cell_type": "code",
      "execution_count": 5,
      "metadata": {
        "id": "zxPk55_ABPgi"
      },
      "outputs": [],
      "source": [
        "max_sequence_len = max([len(seq) for seq in input_sequences])\n",
        "input_sequences = np.array(pad_sequences(input_sequences, maxlen=max_sequence_len, padding='pre'))"
      ]
    },
    {
      "cell_type": "code",
      "execution_count": 6,
      "metadata": {
        "id": "QjPu5vRkBSgP"
      },
      "outputs": [],
      "source": [
        "X = input_sequences[:, :-1]\n",
        "y = input_sequences[:, -1]"
      ]
    },
    {
      "cell_type": "code",
      "execution_count": 7,
      "metadata": {
        "id": "Q2pUi8cQBUof"
      },
      "outputs": [],
      "source": [
        "y = np.array(tf.keras.utils.to_categorical(y, num_classes=total_words))"
      ]
    },
    {
      "cell_type": "code",
      "execution_count": 8,
      "metadata": {
        "colab": {
          "base_uri": "https://localhost:8080/"
        },
        "id": "NsGYCx1vBXLs",
        "outputId": "0f292c69-03d0-406f-f193-f7a763582177"
      },
      "outputs": [
        {
          "output_type": "stream",
          "name": "stdout",
          "text": [
            "Model: \"sequential\"\n",
            "_________________________________________________________________\n",
            " Layer (type)                Output Shape              Param #   \n",
            "=================================================================\n",
            " embedding (Embedding)       (None, 17, 100)           820000    \n",
            "                                                                 \n",
            " lstm (LSTM)                 (None, 150)               150600    \n",
            "                                                                 \n",
            " dense (Dense)               (None, 8200)              1238200   \n",
            "                                                                 \n",
            "=================================================================\n",
            "Total params: 2208800 (8.43 MB)\n",
            "Trainable params: 2208800 (8.43 MB)\n",
            "Non-trainable params: 0 (0.00 Byte)\n",
            "_________________________________________________________________\n",
            "None\n"
          ]
        }
      ],
      "source": [
        "model = Sequential()\n",
        "model.add(Embedding(total_words, 100, input_length=max_sequence_len-1))\n",
        "model.add(LSTM(150))\n",
        "model.add(Dense(total_words, activation='softmax'))\n",
        "print(model.summary())"
      ]
    },
    {
      "cell_type": "code",
      "execution_count": 9,
      "metadata": {
        "colab": {
          "base_uri": "https://localhost:8080/"
        },
        "id": "mFIn88a1BY1U",
        "outputId": "e96fb197-c466-45f0-dd44-5051e7a57273"
      },
      "outputs": [
        {
          "output_type": "stream",
          "name": "stdout",
          "text": [
            "Epoch 1/20\n",
            "3010/3010 [==============================] - 208s 68ms/step - loss: 6.2474 - accuracy: 0.0763\n",
            "Epoch 2/20\n",
            "3010/3010 [==============================] - 200s 67ms/step - loss: 5.5176 - accuracy: 0.1223\n",
            "Epoch 3/20\n",
            "3010/3010 [==============================] - 199s 66ms/step - loss: 5.1286 - accuracy: 0.1470\n",
            "Epoch 4/20\n",
            "3010/3010 [==============================] - 195s 65ms/step - loss: 4.8047 - accuracy: 0.1634\n",
            "Epoch 5/20\n",
            "3010/3010 [==============================] - 192s 64ms/step - loss: 4.5050 - accuracy: 0.1824\n",
            "Epoch 6/20\n",
            "3010/3010 [==============================] - 193s 64ms/step - loss: 4.2230 - accuracy: 0.2011\n",
            "Epoch 7/20\n",
            "3010/3010 [==============================] - 190s 63ms/step - loss: 3.9493 - accuracy: 0.2258\n",
            "Epoch 8/20\n",
            "3010/3010 [==============================] - 194s 64ms/step - loss: 3.6916 - accuracy: 0.2564\n",
            "Epoch 9/20\n",
            "3010/3010 [==============================] - 191s 63ms/step - loss: 3.4486 - accuracy: 0.2902\n",
            "Epoch 10/20\n",
            "3010/3010 [==============================] - 190s 63ms/step - loss: 3.2208 - accuracy: 0.3247\n",
            "Epoch 11/20\n",
            "3010/3010 [==============================] - 191s 63ms/step - loss: 3.0104 - accuracy: 0.3580\n",
            "Epoch 12/20\n",
            "3010/3010 [==============================] - 195s 65ms/step - loss: 2.8153 - accuracy: 0.3939\n",
            "Epoch 13/20\n",
            "3010/3010 [==============================] - 201s 67ms/step - loss: 2.6366 - accuracy: 0.4265\n",
            "Epoch 14/20\n",
            "3010/3010 [==============================] - 194s 64ms/step - loss: 2.4712 - accuracy: 0.4569\n",
            "Epoch 15/20\n",
            "3010/3010 [==============================] - 193s 64ms/step - loss: 2.3189 - accuracy: 0.4868\n",
            "Epoch 16/20\n",
            "3010/3010 [==============================] - 190s 63ms/step - loss: 2.1782 - accuracy: 0.5174\n",
            "Epoch 17/20\n",
            "3010/3010 [==============================] - 190s 63ms/step - loss: 2.0500 - accuracy: 0.5427\n",
            "Epoch 18/20\n",
            "3010/3010 [==============================] - 193s 64ms/step - loss: 1.9313 - accuracy: 0.5686\n",
            "Epoch 19/20\n",
            "3010/3010 [==============================] - 192s 64ms/step - loss: 1.8233 - accuracy: 0.5920\n",
            "Epoch 20/20\n",
            "3010/3010 [==============================] - 193s 64ms/step - loss: 1.7241 - accuracy: 0.6132\n"
          ]
        },
        {
          "output_type": "execute_result",
          "data": {
            "text/plain": [
              "<keras.src.callbacks.History at 0x7e2f0e192080>"
            ]
          },
          "metadata": {},
          "execution_count": 9
        }
      ],
      "source": [
        "model.compile(loss='categorical_crossentropy', optimizer='adam', metrics=['accuracy'])\n",
        "model.fit(X, y, epochs=20, verbose=1)"
      ]
    },
    {
      "cell_type": "code",
      "execution_count": 10,
      "metadata": {
        "id": "0aDX0n46BdFy",
        "colab": {
          "base_uri": "https://localhost:8080/"
        },
        "outputId": "2b4c1184-9d0a-4bfa-b060-a60c1348d688"
      },
      "outputs": [
        {
          "output_type": "stream",
          "name": "stdout",
          "text": [
            "1/1 [==============================] - 1s 1s/step\n",
            "1/1 [==============================] - 0s 40ms/step\n",
            "1/1 [==============================] - 0s 45ms/step\n",
            "1/1 [==============================] - 0s 34ms/step\n",
            "1/1 [==============================] - 0s 47ms/step\n",
            "I will leave if they were not on the day\n"
          ]
        }
      ],
      "source": [
        "seed_text = \"I will leave if they\"\n",
        "next_words = 5\n",
        "\n",
        "for _ in range(next_words):\n",
        "    token_list = tokenizer.texts_to_sequences([seed_text])[0]\n",
        "    token_list = pad_sequences([token_list], maxlen=max_sequence_len-1, padding='pre')\n",
        "    predicted = np.argmax(model.predict(token_list), axis=-1)\n",
        "    output_word = \"\"\n",
        "    for word, index in tokenizer.word_index.items():\n",
        "        if index == predicted:\n",
        "            output_word = word\n",
        "            break\n",
        "    seed_text += \" \" + output_word\n",
        "\n",
        "print(seed_text)"
      ]
    }
  ],
  "metadata": {
    "colab": {
      "provenance": []
    },
    "kernelspec": {
      "display_name": "Python 3",
      "name": "python3"
    },
    "language_info": {
      "name": "python"
    }
  },
  "nbformat": 4,
  "nbformat_minor": 0
}